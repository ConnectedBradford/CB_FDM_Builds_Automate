{
 "cells": [
  {
   "cell_type": "markdown",
   "id": "19b3855a-6035-4ced-b027-411f1e38dcc5",
   "metadata": {},
   "source": [
    "sql_conn <- dbConnect(odbc::odbc(), \n",
    "                    driver = \"SQL Server\", \n",
    "                    server = \"BHTS-CONYDEVWD2\", \n",
    "                    database = \"CB_MYSPACE_JDB\", \n",
    "                    Trusted_Connection = \"True\")\n"
   ]
  },
  {
   "cell_type": "code",
   "execution_count": 1,
   "id": "63144c28-a88c-4adf-84a7-8420f8b0601b",
   "metadata": {
    "tags": []
   },
   "outputs": [
    {
     "name": "stdout",
     "output_type": "stream",
     "text": [
      "HTML file 'Tablemetadata.html' has been generated successfully.\n"
     ]
    }
   ],
   "source": [
    "import pandas as pd\n",
    "\n",
    "# Function to generate HTML\n",
    "def generate_html(metadata_df, output_file):\n",
    "    html_content = \"\"\"\n",
    "    <!DOCTYPE html>\n",
    "    <html>\n",
    "    <head>\n",
    "        <title>Database Metadata</title>\n",
    "        <style>\n",
    "            table {\n",
    "                width: 100%;\n",
    "                border-collapse: collapse;\n",
    "            }\n",
    "            table, th, td {\n",
    "                border: 1px solid black;\n",
    "            }\n",
    "            th, td {\n",
    "                padding: 15px;\n",
    "                text-align: left;\n",
    "            }\n",
    "            th {\n",
    "                background-color: #f2f2f2;\n",
    "            }\n",
    "        </style>\n",
    "    </head>\n",
    "    <body>\n",
    "        <h2>Database Metadata</h2>\n",
    "        <table>\n",
    "            <tr>\n",
    "                <th>Table Name</th>\n",
    "                <th>Column Name</th>\n",
    "                <th>Data Type</th>\n",
    "                <th>Distinct Values</th>\n",
    "            </tr>\n",
    "    \"\"\"\n",
    "    \n",
    "    # Append rows to HTML content\n",
    "    for index, row in metadata_df.iterrows():\n",
    "        html_content += f\"\"\"\n",
    "        <tr>\n",
    "            <td>{row['TableName']}</td>\n",
    "            <td>{row['ColumnName']}</td>\n",
    "            <td>{row['DataType']}</td>\n",
    "            <td>{row['DistinctValues']}</td>\n",
    "        </tr>\n",
    "        \"\"\"\n",
    "    \n",
    "    # Close HTML tags\n",
    "    html_content += \"\"\"\n",
    "        </table>\n",
    "    </body>\n",
    "    </html>\n",
    "    \"\"\"\n",
    "    \n",
    "    # Write to output file\n",
    "    with open(output_file, 'w') as file:\n",
    "        file.write(html_content)\n",
    "\n",
    "# Read metadata from Excel\n",
    "metadata_file = 'EXTable_MetaData.xlsx'  # Change this to the path of your Excel file\n",
    "metadata_df = pd.read_excel(metadata_file)\n",
    "\n",
    "# Generate HTML\n",
    "output_file = 'Tablemetadata.html'  # Output HTML file\n",
    "generate_html(metadata_df, output_file)\n",
    "\n",
    "print(f\"HTML file '{output_file}' has been generated successfully.\")\n"
   ]
  },
  {
   "cell_type": "code",
   "execution_count": 2,
   "id": "731d3a26-70c7-443b-a2ad-e42b0e04240f",
   "metadata": {
    "tags": []
   },
   "outputs": [
    {
     "name": "stdout",
     "output_type": "stream",
     "text": [
      "Collecting pyodbc\n",
      "  Downloading pyodbc-5.1.0-cp310-cp310-manylinux_2_17_x86_64.manylinux2014_x86_64.whl.metadata (2.7 kB)\n",
      "Downloading pyodbc-5.1.0-cp310-cp310-manylinux_2_17_x86_64.manylinux2014_x86_64.whl (334 kB)\n",
      "\u001b[2K   \u001b[90m━━━━━━━━━━━━━━━━━━━━━━━━━━━━━━━━━━━━━━━━\u001b[0m \u001b[32m334.7/334.7 kB\u001b[0m \u001b[31m25.2 MB/s\u001b[0m eta \u001b[36m0:00:00\u001b[0m\n",
      "\u001b[?25hInstalling collected packages: pyodbc\n",
      "Successfully installed pyodbc-5.1.0\n"
     ]
    }
   ],
   "source": [
    "#!pip install pyodbc"
   ]
  },
  {
   "cell_type": "code",
   "execution_count": null,
   "id": "8cf5a57a-568a-4654-9a72-e1104342237b",
   "metadata": {},
   "outputs": [],
   "source": []
  }
 ],
 "metadata": {
  "environment": {
   "kernel": "conda-root-py",
   "name": "workbench-notebooks.m113",
   "type": "gcloud",
   "uri": "gcr.io/deeplearning-platform-release/workbench-notebooks:m113"
  },
  "kernelspec": {
   "display_name": "Python 3 (ipykernel) (Local)",
   "language": "python",
   "name": "conda-root-py"
  },
  "language_info": {
   "codemirror_mode": {
    "name": "ipython",
    "version": 3
   },
   "file_extension": ".py",
   "mimetype": "text/x-python",
   "name": "python",
   "nbconvert_exporter": "python",
   "pygments_lexer": "ipython3",
   "version": "3.10.13"
  }
 },
 "nbformat": 4,
 "nbformat_minor": 5
}
