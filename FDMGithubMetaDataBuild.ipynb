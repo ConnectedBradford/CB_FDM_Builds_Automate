{
 "cells": [
  {
   "cell_type": "code",
   "execution_count": 6,
   "id": "3f28fc9c-de26-40c3-966b-e8f9ec490233",
   "metadata": {},
   "outputs": [
    {
     "name": "stdout",
     "output_type": "stream",
     "text": [
      "Connection established successfully.\n"
     ]
    }
   ],
   "source": [
    "import pyodbc\n",
    "import pandas as pd\n",
    "from jinja2 import Environment, FileSystemLoader\n",
    "import json\n",
    "\n",
    "# Database connection parameters\n",
    "# Connection parameters\n",
    "driver = \"SQL Server\"\n",
    "server = 'BHTS-CONYPROD16'\n",
    "database = 'CB_FDM_OBJECTS'\n",
    "trusted_connection = 'yes'\n",
    "\n",
    "# Connection string\n",
    "connection_string = f\"\"\"\n",
    "DRIVER={{{driver}}};\n",
    "SERVER={server};\n",
    "DATABASE={database};\n",
    "Trusted_Connection={trusted_connection};\n",
    "\"\"\"\n",
    "\n",
    "conn = \"\";\n",
    "# Establish the connection\n",
    "try:\n",
    "    conn = pyodbc.connect(connection_string)\n",
    "    print(\"Connection established successfully.\")\n",
    "except Exception as e:\n",
    "    print(\"Error connecting to the database:\", e)\n",
    "  \n",
    "\n"
   ]
  },
  {
   "cell_type": "code",
   "execution_count": 7,
   "id": "100090ff-7ac4-4914-a511-0d38d906b3da",
   "metadata": {},
   "outputs": [
    {
     "name": "stderr",
     "output_type": "stream",
     "text": [
      "C:\\Users\\ThirunarayananR\\AppData\\Local\\Temp\\ipykernel_2768\\2332691216.py:24: UserWarning: pandas only supports SQLAlchemy connectable (engine/connection) or database string URI or sqlite3 DBAPI2 connection. Other DBAPI2 objects are not tested. Please consider using SQLAlchemy.\n",
      "  metadata_df = pd.read_sql(metadata_query, conn)\n"
     ]
    }
   ],
   "source": [
    "# Query to fetch metadata\n",
    "metadata_query = '''\n",
    "SELECT \n",
    "    m.MetadataID, \n",
    "    m.DatasetName, \n",
    "    m.Description AS DatasetDescription, \n",
    "    m.BuildDate, \n",
    "    m.DataUpTo, \n",
    "    m.ObservationPeriodStart, \n",
    "    m.ObservationPeriodEnd, \n",
    "    m.AdditionalInfo, \n",
    "    t.TableName, \n",
    "    t.TableType, \n",
    "    t.Description AS TableDescription \n",
    "FROM \n",
    "    FDM_Metadata m\n",
    "JOIN \n",
    "    FDM_Tables t ON m.MetadataID = t.MetadataID\n",
    "ORDER BY \n",
    "    m.MetadataID, t.TableName;\n",
    "'''\n",
    "\n",
    "# Fetch data\n",
    "metadata_df = pd.read_sql(metadata_query, conn)\n",
    "\n",
    "# Disconnect from the database\n",
    "conn.close()\n",
    "\n"
   ]
  },
  {
   "cell_type": "code",
   "execution_count": 8,
   "id": "16345eec-c0e3-47d4-a7fc-6747a1c12bfb",
   "metadata": {},
   "outputs": [],
   "source": [
    "# Organize data into nested structure\n",
    "metadata_dict = {}\n",
    "for _, row in metadata_df.iterrows():\n",
    "    metadata_id = row['MetadataID']\n",
    "    if metadata_id not in metadata_dict:\n",
    "        metadata_dict[metadata_id] = {\n",
    "            'DatasetName': row['DatasetName'],\n",
    "            'DatasetDescription': row['DatasetDescription'],\n",
    "            'BuildDate': row['BuildDate'],\n",
    "            'DataUpTo': row['DataUpTo'],\n",
    "            'ObservationPeriodStart': row['ObservationPeriodStart'],\n",
    "            'ObservationPeriodEnd': row['ObservationPeriodEnd'],\n",
    "            'AdditionalInfo': row['AdditionalInfo'],\n",
    "            'Tables': []\n",
    "        }\n",
    "    metadata_dict[metadata_id]['Tables'].append({\n",
    "        'TableName': row['TableName'],\n",
    "        'TableType': row['TableType'],\n",
    "        'TableDescription': row['TableDescription']\n",
    "    })\n",
    "\n",
    "# Convert the dictionary to a list\n",
    "metadata_list = list(metadata_dict.values())\n",
    "\n"
   ]
  },
  {
   "cell_type": "code",
   "execution_count": 9,
   "id": "f1543637-2ba4-416a-b9e8-5ab218f62a00",
   "metadata": {},
   "outputs": [
    {
     "name": "stdout",
     "output_type": "stream",
     "text": [
      "HTML file 'metadata.html' has been created.\n"
     ]
    }
   ],
   "source": [
    "# Save the metadata records as a JSON file\n",
    "with open('metadata.json', 'w') as json_file:\n",
    "    json.dump(metadata_list, json_file, indent=4)\n",
    "\n",
    "# Setup Jinja2 environment\n",
    "env = Environment(loader=FileSystemLoader('.'))\n",
    "template = env.get_template('template.html')\n",
    "\n",
    "# Render the HTML content\n",
    "html_content = template.render(metadata=metadata_list)\n",
    "\n",
    "# Write to an HTML file\n",
    "with open('metadata.html', 'w') as f:\n",
    "    f.write(html_content)\n",
    "\n",
    "print(\"HTML file 'metadata.html' has been created.\")"
   ]
  },
  {
   "cell_type": "code",
   "execution_count": null,
   "id": "89593f2d-311e-47f8-8da2-2c720f228b4c",
   "metadata": {},
   "outputs": [],
   "source": []
  }
 ],
 "metadata": {
  "kernelspec": {
   "display_name": "Python 3 (ipykernel)",
   "language": "python",
   "name": "python3"
  },
  "language_info": {
   "codemirror_mode": {
    "name": "ipython",
    "version": 3
   },
   "file_extension": ".py",
   "mimetype": "text/x-python",
   "name": "python",
   "nbconvert_exporter": "python",
   "pygments_lexer": "ipython3",
   "version": "3.11.7"
  }
 },
 "nbformat": 4,
 "nbformat_minor": 5
}
